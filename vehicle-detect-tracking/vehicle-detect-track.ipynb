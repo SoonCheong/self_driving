{
 "cells": [
  {
   "cell_type": "code",
   "execution_count": 1,
   "metadata": {
    "collapsed": true
   },
   "outputs": [],
   "source": [
    "import os\n",
    "import glob\n",
    "import cv2\n",
    "import numpy as np\n",
    "\n",
    "import matplotlib.pyplot as plt\n",
    "import matplotlib.image as mpimg\n",
    "\n",
    "from sklearn.preprocessing import StandardScaler\n",
    "from sklearn import svm\n",
    "from sklearn.model_selection import train_test_split\n",
    "from sklearn.metrics import accuracy_score\n",
    "\n",
    "from skimage.feature import hog\n",
    "from mpl_toolkits.mplot3d import Axes3D\n"
   ]
  },
  {
   "cell_type": "markdown",
   "metadata": {},
   "source": [
    "# Features Extraction"
   ]
  },
  {
   "cell_type": "code",
   "execution_count": 112,
   "metadata": {
    "collapsed": true
   },
   "outputs": [],
   "source": [
    "# Define a function to compute color histogram features  \n",
    "def color_hist(img, nbins=32, bins_range=(0, 256)):\n",
    "    # Compute the histogram of the RGB channels separately\n",
    "    rhist = np.histogram(img[:,:,0], bins=nbins, range=bins_range)\n",
    "    ghist = np.histogram(img[:,:,1], bins=nbins, range=bins_range)\n",
    "    bhist = np.histogram(img[:,:,2], bins=nbins, range=bins_range)\n",
    "    # Generating bin centers\n",
    "    bin_edges = rhist[1]\n",
    "    bin_centers = (bin_edges[1:]  + bin_edges[0:len(bin_edges)-1])/2\n",
    "    # Concatenate the histograms into a single feature vector\n",
    "    hist_features = np.concatenate((rhist[0], ghist[0], bhist[0]))\n",
    "    # Return the individual histograms, bin_centers and feature vector\n",
    "    return hist_features\n",
    "\n",
    "# Define a function to compute color histogram features  \n",
    "# Pass the color_space flag as 3-letter all caps string\n",
    "# like 'HSV' or 'LUV' etc.\n",
    "def bin_spatial_color_hist(img, color_space='YUV', size=(32, 32)):\n",
    "    # Convert image to new color space (if specified)\n",
    "    if color_space != 'RGB':\n",
    "        if color_space == 'HSV':\n",
    "            feature_image = cv2.cvtColor(img, cv2.COLOR_BGR2HSV)\n",
    "        elif color_space == 'LUV':\n",
    "            feature_image = cv2.cvtColor(img, cv2.COLOR_BGR2LUV)\n",
    "        elif color_space == 'HLS':\n",
    "            feature_image = cv2.cvtColor(img, cv2.COLOR_BGR2HLS)\n",
    "        elif color_space == 'YUV':\n",
    "            feature_image = cv2.cvtColor(img, cv2.COLOR_BGR2YUV)\n",
    "    else: feature_image = np.copy(img)             \n",
    "    \n",
    "    # color histogram\n",
    "    hist_features=color_hist(feature_image)\n",
    "    # Use cv2.resize().ravel() to create the feature vector\n",
    "    bin_features = cv2.resize(feature_image, size).ravel() \n",
    "    # Return the feature vector\n",
    "    return bin_features, hist_features\n",
    "\n",
    "def extract_hog(img, pix_per_cell=8, cell_per_block=1, orient=9):\n",
    "    gray=cv2.cvtColor(img,cv2.COLOR_RGB2GRAY)\n",
    "    hog_features = hog(gray, orientations=orient, pixels_per_cell=(pix_per_cell, pix_per_cell), cells_per_block=(cell_per_block, cell_per_block), visualise=False, feature_vector=True)\n",
    "    return hog_features\n",
    "\n",
    "def extract_features(img, feature='hog', color_space='YUV', size=(32, 32)):\n",
    "    hog_features=extract_hog(img)\n",
    "    if feature=='hog':\n",
    "        return hog_features\n",
    "    \n",
    "    color_bin_features, color_hist_features=bin_spatial_color_hist(img, color_space, size)    \n",
    "    features=np.concatenate((hog_features,color_bin_features, color_hist_features))\n",
    "    return features\n"
   ]
  },
  {
   "cell_type": "code",
   "execution_count": 127,
   "metadata": {
    "collapsed": false
   },
   "outputs": [
    {
     "name": "stdout",
     "output_type": "stream",
     "text": [
      "(3744,)\n"
     ]
    }
   ],
   "source": [
    "fpath=os.getcwd()+'/datasets/vehicles/KITTI_extracted/7.png'\n",
    "img=cv2.imread(fpath)\n",
    "features=extract_features(img,feature='all')\n",
    "print(features.shape)\n"
   ]
  },
  {
   "cell_type": "code",
   "execution_count": 182,
   "metadata": {
    "collapsed": false
   },
   "outputs": [],
   "source": [
    "def process_datasets(features='hog', color_space='YUV'):\n",
    "    if features=='hog':\n",
    "        feat_size=576\n",
    "    else:\n",
    "        feat_size=3744\n",
    "        \n",
    "    # Vehicles\n",
    "    subdir_lists=['KITTI_extracted','GTI_MiddleClose','GTI_Right','GTI_Left','GTI_Far']\n",
    "    datasets_path=os.getcwd()+'/datasets/vehicles/'\n",
    "    subdir=[os.path.join(datasets_path,o) for o in os.listdir(datasets_path) \n",
    "            if os.path.isdir(os.path.join(datasets_path,o))]\n",
    "\n",
    "    x = None\n",
    "\n",
    "    #for subpath in subdir:\n",
    "    for subpath in subdir_lists:\n",
    "        print(subpath)\n",
    "        fcount=len(glob.glob1(datasets_path+subpath,'*.png'))\n",
    "        print(fcount)\n",
    "        x_temp=np.empty([fcount,feat_size])\n",
    "        for i, fname in enumerate(glob.iglob(datasets_path+subpath+'/*.png')):  \n",
    "            img=cv2.imread(fname)\n",
    "            x_temp[i]=extract_features(img,features,color_space)\n",
    "            \n",
    "        if x is None:\n",
    "            x=x_temp\n",
    "        else:\n",
    "            x=np.vstack((x, x_temp))\n",
    "\n",
    "    y=np.ones([x.shape[0]], dtype=int)\n",
    "\n",
    "\n",
    "    # Non-vehicles\n",
    "    datasets_path=os.getcwd()+'/datasets/non-vehicles/'\n",
    "    subdir=[os.path.join(datasets_path,o) for o in os.listdir(datasets_path) \n",
    "            if os.path.isdir(os.path.join(datasets_path,o))]\n",
    "\n",
    "    x_non = None\n",
    "\n",
    "    for subpath in subdir:\n",
    "        fcount=len(glob.glob1(subpath,'*.png'))\n",
    "        print(subpath, fcount)\n",
    "        x_temp=np.empty([fcount,feat_size])\n",
    "        for i, fname in enumerate(glob.iglob(subpath+'*.png')):    \n",
    "            img=cv2.imread(fname)\n",
    "            x_temp[i]=extract_features(img, features, color_space)\n",
    "        if x_non is None:\n",
    "            x_non=x_temp\n",
    "        else:\n",
    "            x_non=np.vstack((x_non, x_temp))\n",
    "\n",
    "    y_non=np.zeros([x_non.shape[0]], dtype=int)\n",
    "\n",
    "    # Stack both vehicle and non-vehicle datasets \n",
    "    y=np.hstack((y,y_non))\n",
    "    x=np.vstack((x,x_non))\n",
    "\n",
    "    # Normalise features\n",
    "    X_scaler=StandardScaler().fit(x)\n",
    "    X=X_scaler.transform(x)\n",
    "\n",
    "    \n",
    "    # Shuffle and split into training and test sets\n",
    "    X_train, X_test, y_train, y_test = train_test_split(\n",
    "        X, y, test_size=0.25)\n",
    "\n",
    "    return X_train, X_test, y_train, y_test\n",
    "\n"
   ]
  },
  {
   "cell_type": "markdown",
   "metadata": {},
   "source": [
    "# SVM\n"
   ]
  },
  {
   "cell_type": "code",
   "execution_count": 184,
   "metadata": {
    "collapsed": false,
    "scrolled": true
   },
   "outputs": [
    {
     "name": "stdout",
     "output_type": "stream",
     "text": [
      "KITTI_extracted\n",
      "5966\n",
      "GTI_MiddleClose\n",
      "419\n",
      "GTI_Right\n",
      "664\n",
      "GTI_Left\n",
      "909\n",
      "GTI_Far\n",
      "834\n",
      "C:\\Users\\soon_\\Documents\\GitHub\\self_driving\\vehicle-detect-tracking/datasets/non-vehicles/Extras 5766\n",
      "C:\\Users\\soon_\\Documents\\GitHub\\self_driving\\vehicle-detect-tracking/datasets/non-vehicles/GTI 3900\n",
      "Validation accuray 1.0000\n"
     ]
    }
   ],
   "source": [
    "X_train, X_test, y_train, y_test=process_datasets(features='hog_and_color', color_space='YUV')\n",
    "\n",
    "clf=svm.LinearSVC()\n",
    "clf.fit(X_train,y_train)\n",
    "\n",
    "y_pred=clf.predict(X_test)\n",
    "val_acc=accuracy_score(y_test, y_pred)\n",
    "print('Validation accuray %.4f'%val_acc)"
   ]
  },
  {
   "cell_type": "code",
   "execution_count": null,
   "metadata": {
    "collapsed": true
   },
   "outputs": [],
   "source": []
  },
  {
   "cell_type": "code",
   "execution_count": null,
   "metadata": {
    "collapsed": true
   },
   "outputs": [],
   "source": []
  }
 ],
 "metadata": {
  "anaconda-cloud": {},
  "kernelspec": {
   "display_name": "Python [default]",
   "language": "python",
   "name": "python3"
  },
  "language_info": {
   "codemirror_mode": {
    "name": "ipython",
    "version": 3
   },
   "file_extension": ".py",
   "mimetype": "text/x-python",
   "name": "python",
   "nbconvert_exporter": "python",
   "pygments_lexer": "ipython3",
   "version": "3.5.2"
  }
 },
 "nbformat": 4,
 "nbformat_minor": 1
}
